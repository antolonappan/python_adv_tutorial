{
 "cells": [
  {
   "cell_type": "markdown",
   "metadata": {},
   "source": [
    "\n",
    "# Whats are args and kargs?\n",
    "------------------------------------------\n",
    "\n",
    "1. args and kargs are just names, you can choose any name.\n",
    "\n",
    "2. No. of astrids defines the purposes\n",
    "\n",
    "## *args\n",
    "----------\n",
    "For arguments without any assignments\n",
    "\n",
    "ex: function(1,3)\n",
    "\n",
    "args[i] gives the value of i^th element\n",
    "\n",
    "## **kargs\n",
    "-------\n",
    "For arguments with assignments\n",
    "ex: function(a=1, b=3)\n",
    "kargs['a'] gives the value binded to the key 'a'\n",
    "\n",
    "------------------------------------------------------------\n",
    "**If no args or kargs given, then len(args) and len(kargs) = 0**\n",
    "-------------------------------------------------------------------------\n",
    "\n",
    "## Where to use it ?\n",
    "-----------------\n",
    "Consider function1(a,b) and function2(c,d),\n",
    "\n",
    "This two functions depends on two different set of variables.\n",
    "\n",
    "If you want to call function2 directly from function1 with an option\n",
    "\n",
    "to take arguments of function2. Then you can do it like\n",
    "```\n",
    "def function1(a,b,*args,**kargs):\n",
    "\n",
    "      function2(*args,**kargs)\n",
    "```\n",
    "then call function1(1,2,3,4)\n",
    "\n",
    "  =>  **a and b takes the values 1 and 2 respp.**\n",
    "  \n",
    "  =>  **usage of *args passes the value 3 and 4 to c and d res.**\n",
    "\n",
    "or for the call function1(1, 2, d=4, c=3)\n",
    "\n",
    "  =>  **a and b takes the values 1 and 2 res.**\n",
    "  \n",
    "  =>  **usage of *kargs passes the value 4 and 3 to d and c res.**\n",
    "  \n",
    "  =>  **IMP: since here you are passing arguments by assigning\n",
    "           order doesn't matters, but in *args order matters.**"
   ]
  },
  {
   "cell_type": "code",
   "execution_count": 1,
   "metadata": {},
   "outputs": [],
   "source": [
    "def test(a, *args, **kargs):\n",
    "    print(a)\n",
    "    print(args) #tweek to see  args[0] and kargs['variable']\n",
    "    print(kargs)\n",
    "    return None"
   ]
  },
  {
   "cell_type": "code",
   "execution_count": 2,
   "metadata": {},
   "outputs": [
    {
     "name": "stdout",
     "output_type": "stream",
     "text": [
      "1\n",
      "()\n",
      "{'w': 4}\n"
     ]
    }
   ],
   "source": [
    "test(1,w=4)"
   ]
  },
  {
   "cell_type": "markdown",
   "metadata": {},
   "source": [
    "# Function inside function\n",
    "see below how to define fuction inside function, you can define multiple functions."
   ]
  },
  {
   "cell_type": "code",
   "execution_count": 3,
   "metadata": {},
   "outputs": [],
   "source": [
    "def arith(a,b,c):\n",
    "    def ins(c):\n",
    "        return c**2\n",
    "    return a + b + ins(c)"
   ]
  },
  {
   "cell_type": "code",
   "execution_count": 4,
   "metadata": {},
   "outputs": [
    {
     "name": "stdout",
     "output_type": "stream",
     "text": [
      "3\n"
     ]
    }
   ],
   "source": [
    "print(arith(1,1,1))"
   ]
  },
  {
   "cell_type": "markdown",
   "metadata": {},
   "source": [
    "# Function as a parameter\n",
    "\n",
    "### Example 1\n",
    "Here one can see how a function takes another function\n",
    "as an argument.\n",
    "\n",
    "To see modified codes see example 2 and example 3"
   ]
  },
  {
   "cell_type": "code",
   "execution_count": 5,
   "metadata": {},
   "outputs": [],
   "source": [
    "def addd(a,b):\n",
    "    return a + b\n",
    "\n",
    "def enh_addd(func, c):\n",
    "    x = 1\n",
    "    y = 1\n",
    "    return  c + func(x,y)"
   ]
  },
  {
   "cell_type": "code",
   "execution_count": 6,
   "metadata": {},
   "outputs": [
    {
     "name": "stdout",
     "output_type": "stream",
     "text": [
      "3\n"
     ]
    }
   ],
   "source": [
    "print(enh_addd(addd, 1))"
   ]
  },
  {
   "cell_type": "markdown",
   "metadata": {},
   "source": [
    "### Example 2\n",
    "In the previous example, arguments of the parameter function was asgined \n",
    "inside the host function. In this example you can see how we can pass \n",
    "the arguments of the parameter function while calling the host function."
   ]
  },
  {
   "cell_type": "code",
   "execution_count": 7,
   "metadata": {},
   "outputs": [],
   "source": [
    "def addd(a,b): # parameter function\n",
    "    return a + b\n",
    "\n",
    "def enh_addd(func, c, *args): # host function\n",
    "    return  c + func(*args)"
   ]
  },
  {
   "cell_type": "code",
   "execution_count": 8,
   "metadata": {},
   "outputs": [
    {
     "name": "stdout",
     "output_type": "stream",
     "text": [
      "6\n"
     ]
    }
   ],
   "source": [
    "print(enh_addd(addd, 3, 1, 2))"
   ]
  },
  {
   "cell_type": "markdown",
   "metadata": {},
   "source": [
    "### Example 3\n",
    "The purpose of this example is same as previous one but here we are using **kargs"
   ]
  },
  {
   "cell_type": "code",
   "execution_count": 9,
   "metadata": {},
   "outputs": [],
   "source": [
    "def addd(a,b):\n",
    "    return a + b\n",
    "\n",
    "def enh_addd(c, func, **kargs):\n",
    "    if len(kargs) != 0: \n",
    "        a = float(kargs['a'])\n",
    "        b = float(kargs['b'])\n",
    "        return  c + func(a,b)\n",
    "    else:\n",
    "        raise Exception('no arguments')"
   ]
  },
  {
   "cell_type": "code",
   "execution_count": 10,
   "metadata": {},
   "outputs": [
    {
     "name": "stdout",
     "output_type": "stream",
     "text": [
      "3.0\n"
     ]
    }
   ],
   "source": [
    "print(enh_addd(1, addd, a=1, b=1))"
   ]
  },
  {
   "cell_type": "code",
   "execution_count": 11,
   "metadata": {},
   "outputs": [
    {
     "ename": "Exception",
     "evalue": "no arguments",
     "output_type": "error",
     "traceback": [
      "\u001b[0;31m---------------------------------------------------------------------------\u001b[0m",
      "\u001b[0;31mException\u001b[0m                                 Traceback (most recent call last)",
      "\u001b[0;32m<ipython-input-11-515446985eff>\u001b[0m in \u001b[0;36m<module>\u001b[0;34m()\u001b[0m\n\u001b[0;32m----> 1\u001b[0;31m \u001b[0mprint\u001b[0m\u001b[0;34m(\u001b[0m\u001b[0menh_addd\u001b[0m\u001b[0;34m(\u001b[0m\u001b[0;36m1\u001b[0m\u001b[0;34m,\u001b[0m \u001b[0maddd\u001b[0m\u001b[0;34m)\u001b[0m\u001b[0;34m)\u001b[0m\u001b[0;34m\u001b[0m\u001b[0m\n\u001b[0m",
      "\u001b[0;32m<ipython-input-9-3eb41bac0e2a>\u001b[0m in \u001b[0;36menh_addd\u001b[0;34m(c, func, **kargs)\u001b[0m\n\u001b[1;32m      8\u001b[0m         \u001b[0;32mreturn\u001b[0m  \u001b[0mc\u001b[0m \u001b[0;34m+\u001b[0m \u001b[0mfunc\u001b[0m\u001b[0;34m(\u001b[0m\u001b[0ma\u001b[0m\u001b[0;34m,\u001b[0m\u001b[0mb\u001b[0m\u001b[0;34m)\u001b[0m\u001b[0;34m\u001b[0m\u001b[0m\n\u001b[1;32m      9\u001b[0m     \u001b[0;32melse\u001b[0m\u001b[0;34m:\u001b[0m\u001b[0;34m\u001b[0m\u001b[0m\n\u001b[0;32m---> 10\u001b[0;31m         \u001b[0;32mraise\u001b[0m \u001b[0mException\u001b[0m\u001b[0;34m(\u001b[0m\u001b[0;34m'no arguments'\u001b[0m\u001b[0;34m)\u001b[0m\u001b[0;34m\u001b[0m\u001b[0m\n\u001b[0m",
      "\u001b[0;31mException\u001b[0m: no arguments"
     ]
    }
   ],
   "source": [
    "print(enh_addd(1, addd))"
   ]
  },
  {
   "cell_type": "markdown",
   "metadata": {},
   "source": [
    "# Function returning function\n",
    "A defintion can also return another function\n",
    "### Example 1"
   ]
  },
  {
   "cell_type": "code",
   "execution_count": 12,
   "metadata": {},
   "outputs": [],
   "source": [
    "def addd(a, b):\n",
    "    def enh_addd(c):\n",
    "        return a + b + c\n",
    "    return enh_addd"
   ]
  },
  {
   "cell_type": "code",
   "execution_count": 13,
   "metadata": {},
   "outputs": [
    {
     "name": "stdout",
     "output_type": "stream",
     "text": [
      "<function addd.<locals>.enh_addd at 0x7f36a8473268>\n"
     ]
    }
   ],
   "source": [
    "print(addd(1,2)) # prints the function object and its memory location"
   ]
  },
  {
   "cell_type": "code",
   "execution_count": 14,
   "metadata": {},
   "outputs": [
    {
     "name": "stdout",
     "output_type": "stream",
     "text": [
      "6\n"
     ]
    }
   ],
   "source": [
    "d = addd(1,2) # d is an another function which can take a single argument\n",
    "print(d(3))"
   ]
  },
  {
   "cell_type": "markdown",
   "metadata": {},
   "source": [
    "### Example 2\n",
    "This modified version can use as 'normal' also as 'enh'"
   ]
  },
  {
   "cell_type": "code",
   "execution_count": 15,
   "metadata": {},
   "outputs": [],
   "source": [
    "def addd(a, b,**kargs):\n",
    "    def enh_addd(c):\n",
    "        return a + b + c\n",
    "\n",
    "    if len(kargs) is not 0:\n",
    "        if kargs['enh']:\n",
    "            return enh_addd\n",
    "        elif not kargs['enh']:\n",
    "            return a + b\n",
    "    else:\n",
    "        return a + b\n"
   ]
  },
  {
   "cell_type": "code",
   "execution_count": 16,
   "metadata": {},
   "outputs": [
    {
     "name": "stdout",
     "output_type": "stream",
     "text": [
      "3\n"
     ]
    }
   ],
   "source": [
    "print(addd(1,2))"
   ]
  },
  {
   "cell_type": "code",
   "execution_count": 17,
   "metadata": {},
   "outputs": [
    {
     "name": "stdout",
     "output_type": "stream",
     "text": [
      "<function addd.<locals>.enh_addd at 0x7f36a8473620>\n"
     ]
    }
   ],
   "source": [
    "print(addd(1,2,enh=True))"
   ]
  },
  {
   "cell_type": "code",
   "execution_count": 18,
   "metadata": {},
   "outputs": [
    {
     "name": "stdout",
     "output_type": "stream",
     "text": [
      "4\n"
     ]
    }
   ],
   "source": [
    "d = addd(1,2,enh=True)\n",
    "print(d(1))"
   ]
  },
  {
   "cell_type": "code",
   "execution_count": 19,
   "metadata": {},
   "outputs": [
    {
     "name": "stdout",
     "output_type": "stream",
     "text": [
      "3\n"
     ]
    }
   ],
   "source": [
    "print(addd(1,2, enh=False))"
   ]
  },
  {
   "cell_type": "markdown",
   "metadata": {},
   "source": [
    "# Decorators\n",
    "\n",
    "Here you can see I have used same defintion with two different name\n",
    "Both functions performs addition of two given nos.\n",
    "\n",
    "But you can see after running, the second definition perform substraction\n",
    "even though it is defined as addition\n",
    "\n",
    "@ is for decorators.\n",
    "\n",
    "Since you gone through the previous 4 lessons, it is easy to figure out\n",
    "what subb is doing.\n",
    "\n",
    "you will explore few built in decorators in coming examples."
   ]
  },
  {
   "cell_type": "code",
   "execution_count": 20,
   "metadata": {},
   "outputs": [],
   "source": [
    "# Decorator definition\n",
    "def subb(func):\n",
    "    def wrapper(*args):\n",
    "        return  args[0] - args[1]\n",
    "    return wrapper"
   ]
  },
  {
   "cell_type": "code",
   "execution_count": 21,
   "metadata": {},
   "outputs": [],
   "source": [
    "def addd1(a,b):\n",
    "    return a + b\n",
    "\n",
    "@subb\n",
    "def addd2(a,b):\n",
    "    return a + b"
   ]
  },
  {
   "cell_type": "code",
   "execution_count": 22,
   "metadata": {},
   "outputs": [
    {
     "name": "stdout",
     "output_type": "stream",
     "text": [
      "5\n"
     ]
    }
   ],
   "source": [
    "print(addd1(3,2))"
   ]
  },
  {
   "cell_type": "code",
   "execution_count": 23,
   "metadata": {},
   "outputs": [
    {
     "name": "stdout",
     "output_type": "stream",
     "text": [
      "1\n"
     ]
    }
   ],
   "source": [
    "print(addd2(3,2))"
   ]
  },
  {
   "cell_type": "code",
   "execution_count": null,
   "metadata": {},
   "outputs": [],
   "source": []
  }
 ],
 "metadata": {
  "kernelspec": {
   "display_name": "Python 3",
   "language": "python",
   "name": "python3"
  },
  "language_info": {
   "codemirror_mode": {
    "name": "ipython",
    "version": 3
   },
   "file_extension": ".py",
   "mimetype": "text/x-python",
   "name": "python",
   "nbconvert_exporter": "python",
   "pygments_lexer": "ipython3",
   "version": "3.6.4"
  }
 },
 "nbformat": 4,
 "nbformat_minor": 2
}
